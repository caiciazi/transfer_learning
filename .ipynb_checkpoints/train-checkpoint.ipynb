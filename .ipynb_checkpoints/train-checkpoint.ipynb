{
 "cells": [
  {
   "cell_type": "markdown",
   "id": "e119be4e-71b0-4739-b9cb-1d05ef1594a8",
   "metadata": {},
   "source": [
    "# 迁移学习"
   ]
  },
  {
   "cell_type": "markdown",
   "id": "30a3b676-2a7e-440c-b829-75acb6bbb1db",
   "metadata": {
    "tags": []
   },
   "source": [
    "## 导入需要的包"
   ]
  },
  {
   "cell_type": "code",
   "execution_count": 1,
   "id": "50221b0f-d829-4268-b425-302240bb6100",
   "metadata": {},
   "outputs": [],
   "source": [
    "import tensorflow as tf\n",
    "import pathlib\n",
    "import random"
   ]
  },
  {
   "cell_type": "markdown",
   "id": "c37c2029-7cf2-411e-b63e-f9184eab4ff9",
   "metadata": {},
   "source": [
    "导入数据"
   ]
  },
  {
   "cell_type": "code",
   "execution_count": 2,
   "id": "f005d25c-6e0e-4dab-9657-2ec2bf4451f1",
   "metadata": {},
   "outputs": [],
   "source": [
    "data_root_orig = r'C:\\Users\\Administrator\\Desktop\\transfer learning'\n",
    "data_root = pathlib.Path(data_root_orig)\n",
    "\n",
    "\n",
    "\n",
    "all_image_paths = list(data_root.glob('*/*.jpg'))\n",
    "all_image_paths = [str(path) for path in all_image_paths]\n",
    "random.shuffle(all_image_paths)"
   ]
  },
  {
   "cell_type": "code",
   "execution_count": 3,
   "id": "d3d1a638-af37-48eb-83e5-839e28e9819e",
   "metadata": {},
   "outputs": [
    {
     "name": "stdout",
     "output_type": "stream",
     "text": [
      "['.ipynb_checkpoints', 'daisy', 'dandelion', 'roses', 'sunflowers', 'tulips']\n",
      "['daisy', 'dandelion', 'roses', 'sunflowers', 'tulips']\n"
     ]
    }
   ],
   "source": [
    "label_names = sorted(item.name for item in data_root.glob('*/') if item.is_dir())\n",
    "print(label_names)\n",
    "label_names.remove('.ipynb_checkpoints')\n",
    "print(label_names)"
   ]
  },
  {
   "cell_type": "code",
   "execution_count": 4,
   "id": "2762aeb4-fe5f-46ae-8981-505f88e15abc",
   "metadata": {},
   "outputs": [
    {
     "data": {
      "text/plain": [
       "{'daisy': 0, 'dandelion': 1, 'roses': 2, 'sunflowers': 3, 'tulips': 4}"
      ]
     },
     "execution_count": 4,
     "metadata": {},
     "output_type": "execute_result"
    }
   ],
   "source": [
    "label_to_index = dict((name, index) for index, name in enumerate(label_names))\n",
    "label_to_index"
   ]
  },
  {
   "cell_type": "code",
   "execution_count": 5,
   "id": "e45efbb6-c98e-42d9-95a9-00a5cb0bc1fc",
   "metadata": {},
   "outputs": [],
   "source": [
    "all_image_labels = [label_to_index.get(pathlib.Path(path).parent.name)\n",
    "                    for path in all_image_paths]"
   ]
  },
  {
   "cell_type": "markdown",
   "id": "0eec6fcf-07b2-423a-9437-40dbd20a7bfc",
   "metadata": {
    "tags": []
   },
   "source": [
    "## 数据集"
   ]
  },
  {
   "cell_type": "code",
   "execution_count": 6,
   "id": "8f8d1a70-6e4c-4d8d-ae87-85a6d88edc87",
   "metadata": {},
   "outputs": [
    {
     "data": {
      "text/plain": [
       "3670"
      ]
     },
     "execution_count": 6,
     "metadata": {},
     "output_type": "execute_result"
    }
   ],
   "source": [
    "length = len(all_image_labels)\n",
    "length"
   ]
  },
  {
   "cell_type": "code",
   "execution_count": 7,
   "id": "7d19519a-7b39-4c1f-83fe-df02fa3031cb",
   "metadata": {},
   "outputs": [],
   "source": [
    "index = tf.range(length)\n",
    "index = tf.random.shuffle(index)\n",
    "train_image_paths = tf.gather(all_image_paths, index[:3000])\n",
    "train_image_labels = tf.gather(all_image_labels, index[:3000])\n",
    "test_image_paths = tf.gather(all_image_paths, index[3000:])\n",
    "test_image_labels = tf.gather(all_image_labels, index[3000:])"
   ]
  },
  {
   "cell_type": "code",
   "execution_count": 8,
   "id": "5ee2fff9-66df-4ca5-8259-ca0e837f4e90",
   "metadata": {},
   "outputs": [
    {
     "name": "stdout",
     "output_type": "stream",
     "text": [
      "<TensorSliceDataset shapes: ((), ()), types: (tf.string, tf.int32)>\n",
      "<TensorSliceDataset shapes: ((), ()), types: (tf.string, tf.int32)>\n"
     ]
    }
   ],
   "source": [
    "train_ds = tf.data.Dataset.from_tensor_slices((train_image_paths, train_image_labels))\n",
    "test_ds = tf.data.Dataset.from_tensor_slices((test_image_paths, test_image_labels))\n",
    "print(train_ds)\n",
    "print(test_ds)"
   ]
  },
  {
   "cell_type": "code",
   "execution_count": 9,
   "id": "f411ee61-4e85-451a-a14b-1346900a7f1c",
   "metadata": {},
   "outputs": [],
   "source": [
    "def preprocessing(x, y):\n",
    "    x = tf.io.read_file(x)# img_raw\n",
    "    x = tf.image.decode_jpeg(x, channels=3)\n",
    "    x = tf.image.resize(x, [128, 128])\n",
    "#     x = (x / 255.0) * 2 - 1  # normalize to [-1,1] range\n",
    "    x = tf.cast(x, dtype=tf.float32)\n",
    "    \n",
    "    y = tf.cast(y, dtype=tf.int32)\n",
    "    return x, y"
   ]
  },
  {
   "cell_type": "code",
   "execution_count": 10,
   "id": "62046258-1781-47aa-82f1-f7100a8ed8c7",
   "metadata": {},
   "outputs": [],
   "source": [
    "AUTOTUNE = tf.data.experimental.AUTOTUNE\n",
    "batch_size = 128\n",
    "train_ds = train_ds.map(preprocessing, num_parallel_calls=AUTOTUNE).batch(batch_size,drop_remainder=True).prefetch(buffer_size=AUTOTUNE)\n",
    "test_ds = test_ds.map(preprocessing, num_parallel_calls=AUTOTUNE).batch(batch_size,drop_remainder=True).prefetch(buffer_size=AUTOTUNE)"
   ]
  },
  {
   "cell_type": "code",
   "execution_count": 11,
   "id": "8630054d-20c5-4291-82f7-29bde34148ab",
   "metadata": {},
   "outputs": [
    {
     "name": "stdout",
     "output_type": "stream",
     "text": [
      "/job:localhost/replica:0/task:0/device:CPU:0\n"
     ]
    }
   ],
   "source": [
    "for images, labels in train_ds.take(1):\n",
    "    print(images.device)"
   ]
  },
  {
   "cell_type": "markdown",
   "id": "8934e527-c886-42a3-a75c-df02be1b9701",
   "metadata": {
    "tags": []
   },
   "source": [
    "## 模型"
   ]
  },
  {
   "cell_type": "code",
   "execution_count": 12,
   "id": "6cce6241-1e7b-4ba9-aefc-74e3f98e70d2",
   "metadata": {},
   "outputs": [],
   "source": [
    "preprocess_input = tf.keras.applications.mobilenet_v2.preprocess_input"
   ]
  },
  {
   "cell_type": "code",
   "execution_count": 13,
   "id": "b887af5a-6d07-47cb-b847-f1b081e98e30",
   "metadata": {},
   "outputs": [
    {
     "data": {
      "text/plain": [
       "(128, 128, 3)"
      ]
     },
     "execution_count": 13,
     "metadata": {},
     "output_type": "execute_result"
    }
   ],
   "source": [
    "img_size = (128,128)\n",
    "img_shape = img_size + (3,)\n",
    "img_shape"
   ]
  },
  {
   "cell_type": "code",
   "execution_count": 14,
   "id": "5535ec8f-f6ed-4720-9753-f2814c24bb29",
   "metadata": {},
   "outputs": [],
   "source": [
    "base_model = tf.keras.applications.MobileNetV2(input_shape=img_shape,\n",
    "                                               include_top=False,\n",
    "                                               weights='imagenet')"
   ]
  },
  {
   "cell_type": "code",
   "execution_count": 15,
   "id": "e3b28951-aac6-4218-8a7d-bf419b42b6db",
   "metadata": {},
   "outputs": [
    {
     "name": "stdout",
     "output_type": "stream",
     "text": [
      "(128, 4, 4, 1280)\n"
     ]
    }
   ],
   "source": [
    "img_batch, label_batch = next(iter(train_ds))\n",
    "feature_batch = base_model(img_batch)\n",
    "print(feature_batch.shape)"
   ]
  },
  {
   "cell_type": "code",
   "execution_count": 16,
   "id": "4bd5b44f-2f5f-4c4c-ba4c-6109aa346b11",
   "metadata": {},
   "outputs": [],
   "source": [
    "base_model.trainable = False"
   ]
  },
  {
   "cell_type": "code",
   "execution_count": 17,
   "id": "550a08a6-0e5d-4213-bca1-c7e7af5aa219",
   "metadata": {
    "scrolled": true,
    "tags": []
   },
   "outputs": [
    {
     "name": "stdout",
     "output_type": "stream",
     "text": [
      "Model: \"mobilenetv2_1.00_128\"\n",
      "__________________________________________________________________________________________________\n",
      "Layer (type)                    Output Shape         Param #     Connected to                     \n",
      "==================================================================================================\n",
      "input_1 (InputLayer)            [(None, 128, 128, 3) 0                                            \n",
      "__________________________________________________________________________________________________\n",
      "Conv1_pad (ZeroPadding2D)       (None, 129, 129, 3)  0           input_1[0][0]                    \n",
      "__________________________________________________________________________________________________\n",
      "Conv1 (Conv2D)                  (None, 64, 64, 32)   864         Conv1_pad[0][0]                  \n",
      "__________________________________________________________________________________________________\n",
      "bn_Conv1 (BatchNormalization)   (None, 64, 64, 32)   128         Conv1[0][0]                      \n",
      "__________________________________________________________________________________________________\n",
      "Conv1_relu (ReLU)               (None, 64, 64, 32)   0           bn_Conv1[0][0]                   \n",
      "__________________________________________________________________________________________________\n",
      "expanded_conv_depthwise (Depthw (None, 64, 64, 32)   288         Conv1_relu[0][0]                 \n",
      "__________________________________________________________________________________________________\n",
      "expanded_conv_depthwise_BN (Bat (None, 64, 64, 32)   128         expanded_conv_depthwise[0][0]    \n",
      "__________________________________________________________________________________________________\n",
      "expanded_conv_depthwise_relu (R (None, 64, 64, 32)   0           expanded_conv_depthwise_BN[0][0] \n",
      "__________________________________________________________________________________________________\n",
      "expanded_conv_project (Conv2D)  (None, 64, 64, 16)   512         expanded_conv_depthwise_relu[0][0\n",
      "__________________________________________________________________________________________________\n",
      "expanded_conv_project_BN (Batch (None, 64, 64, 16)   64          expanded_conv_project[0][0]      \n",
      "__________________________________________________________________________________________________\n",
      "block_1_expand (Conv2D)         (None, 64, 64, 96)   1536        expanded_conv_project_BN[0][0]   \n",
      "__________________________________________________________________________________________________\n",
      "block_1_expand_BN (BatchNormali (None, 64, 64, 96)   384         block_1_expand[0][0]             \n",
      "__________________________________________________________________________________________________\n",
      "block_1_expand_relu (ReLU)      (None, 64, 64, 96)   0           block_1_expand_BN[0][0]          \n",
      "__________________________________________________________________________________________________\n",
      "block_1_pad (ZeroPadding2D)     (None, 65, 65, 96)   0           block_1_expand_relu[0][0]        \n",
      "__________________________________________________________________________________________________\n",
      "block_1_depthwise (DepthwiseCon (None, 32, 32, 96)   864         block_1_pad[0][0]                \n",
      "__________________________________________________________________________________________________\n",
      "block_1_depthwise_BN (BatchNorm (None, 32, 32, 96)   384         block_1_depthwise[0][0]          \n",
      "__________________________________________________________________________________________________\n",
      "block_1_depthwise_relu (ReLU)   (None, 32, 32, 96)   0           block_1_depthwise_BN[0][0]       \n",
      "__________________________________________________________________________________________________\n",
      "block_1_project (Conv2D)        (None, 32, 32, 24)   2304        block_1_depthwise_relu[0][0]     \n",
      "__________________________________________________________________________________________________\n",
      "block_1_project_BN (BatchNormal (None, 32, 32, 24)   96          block_1_project[0][0]            \n",
      "__________________________________________________________________________________________________\n",
      "block_2_expand (Conv2D)         (None, 32, 32, 144)  3456        block_1_project_BN[0][0]         \n",
      "__________________________________________________________________________________________________\n",
      "block_2_expand_BN (BatchNormali (None, 32, 32, 144)  576         block_2_expand[0][0]             \n",
      "__________________________________________________________________________________________________\n",
      "block_2_expand_relu (ReLU)      (None, 32, 32, 144)  0           block_2_expand_BN[0][0]          \n",
      "__________________________________________________________________________________________________\n",
      "block_2_depthwise (DepthwiseCon (None, 32, 32, 144)  1296        block_2_expand_relu[0][0]        \n",
      "__________________________________________________________________________________________________\n",
      "block_2_depthwise_BN (BatchNorm (None, 32, 32, 144)  576         block_2_depthwise[0][0]          \n",
      "__________________________________________________________________________________________________\n",
      "block_2_depthwise_relu (ReLU)   (None, 32, 32, 144)  0           block_2_depthwise_BN[0][0]       \n",
      "__________________________________________________________________________________________________\n",
      "block_2_project (Conv2D)        (None, 32, 32, 24)   3456        block_2_depthwise_relu[0][0]     \n",
      "__________________________________________________________________________________________________\n",
      "block_2_project_BN (BatchNormal (None, 32, 32, 24)   96          block_2_project[0][0]            \n",
      "__________________________________________________________________________________________________\n",
      "block_2_add (Add)               (None, 32, 32, 24)   0           block_1_project_BN[0][0]         \n",
      "                                                                 block_2_project_BN[0][0]         \n",
      "__________________________________________________________________________________________________\n",
      "block_3_expand (Conv2D)         (None, 32, 32, 144)  3456        block_2_add[0][0]                \n",
      "__________________________________________________________________________________________________\n",
      "block_3_expand_BN (BatchNormali (None, 32, 32, 144)  576         block_3_expand[0][0]             \n",
      "__________________________________________________________________________________________________\n",
      "block_3_expand_relu (ReLU)      (None, 32, 32, 144)  0           block_3_expand_BN[0][0]          \n",
      "__________________________________________________________________________________________________\n",
      "block_3_pad (ZeroPadding2D)     (None, 33, 33, 144)  0           block_3_expand_relu[0][0]        \n",
      "__________________________________________________________________________________________________\n",
      "block_3_depthwise (DepthwiseCon (None, 16, 16, 144)  1296        block_3_pad[0][0]                \n",
      "__________________________________________________________________________________________________\n",
      "block_3_depthwise_BN (BatchNorm (None, 16, 16, 144)  576         block_3_depthwise[0][0]          \n",
      "__________________________________________________________________________________________________\n",
      "block_3_depthwise_relu (ReLU)   (None, 16, 16, 144)  0           block_3_depthwise_BN[0][0]       \n",
      "__________________________________________________________________________________________________\n",
      "block_3_project (Conv2D)        (None, 16, 16, 32)   4608        block_3_depthwise_relu[0][0]     \n",
      "__________________________________________________________________________________________________\n",
      "block_3_project_BN (BatchNormal (None, 16, 16, 32)   128         block_3_project[0][0]            \n",
      "__________________________________________________________________________________________________\n",
      "block_4_expand (Conv2D)         (None, 16, 16, 192)  6144        block_3_project_BN[0][0]         \n",
      "__________________________________________________________________________________________________\n",
      "block_4_expand_BN (BatchNormali (None, 16, 16, 192)  768         block_4_expand[0][0]             \n",
      "__________________________________________________________________________________________________\n",
      "block_4_expand_relu (ReLU)      (None, 16, 16, 192)  0           block_4_expand_BN[0][0]          \n",
      "__________________________________________________________________________________________________\n",
      "block_4_depthwise (DepthwiseCon (None, 16, 16, 192)  1728        block_4_expand_relu[0][0]        \n",
      "__________________________________________________________________________________________________\n",
      "block_4_depthwise_BN (BatchNorm (None, 16, 16, 192)  768         block_4_depthwise[0][0]          \n",
      "__________________________________________________________________________________________________\n",
      "block_4_depthwise_relu (ReLU)   (None, 16, 16, 192)  0           block_4_depthwise_BN[0][0]       \n",
      "__________________________________________________________________________________________________\n",
      "block_4_project (Conv2D)        (None, 16, 16, 32)   6144        block_4_depthwise_relu[0][0]     \n",
      "__________________________________________________________________________________________________\n",
      "block_4_project_BN (BatchNormal (None, 16, 16, 32)   128         block_4_project[0][0]            \n",
      "__________________________________________________________________________________________________\n",
      "block_4_add (Add)               (None, 16, 16, 32)   0           block_3_project_BN[0][0]         \n",
      "                                                                 block_4_project_BN[0][0]         \n",
      "__________________________________________________________________________________________________\n",
      "block_5_expand (Conv2D)         (None, 16, 16, 192)  6144        block_4_add[0][0]                \n",
      "__________________________________________________________________________________________________\n",
      "block_5_expand_BN (BatchNormali (None, 16, 16, 192)  768         block_5_expand[0][0]             \n",
      "__________________________________________________________________________________________________\n",
      "block_5_expand_relu (ReLU)      (None, 16, 16, 192)  0           block_5_expand_BN[0][0]          \n",
      "__________________________________________________________________________________________________\n",
      "block_5_depthwise (DepthwiseCon (None, 16, 16, 192)  1728        block_5_expand_relu[0][0]        \n",
      "__________________________________________________________________________________________________\n",
      "block_5_depthwise_BN (BatchNorm (None, 16, 16, 192)  768         block_5_depthwise[0][0]          \n",
      "__________________________________________________________________________________________________\n",
      "block_5_depthwise_relu (ReLU)   (None, 16, 16, 192)  0           block_5_depthwise_BN[0][0]       \n",
      "__________________________________________________________________________________________________\n",
      "block_5_project (Conv2D)        (None, 16, 16, 32)   6144        block_5_depthwise_relu[0][0]     \n",
      "__________________________________________________________________________________________________\n",
      "block_5_project_BN (BatchNormal (None, 16, 16, 32)   128         block_5_project[0][0]            \n",
      "__________________________________________________________________________________________________\n",
      "block_5_add (Add)               (None, 16, 16, 32)   0           block_4_add[0][0]                \n",
      "                                                                 block_5_project_BN[0][0]         \n",
      "__________________________________________________________________________________________________\n",
      "block_6_expand (Conv2D)         (None, 16, 16, 192)  6144        block_5_add[0][0]                \n",
      "__________________________________________________________________________________________________\n",
      "block_6_expand_BN (BatchNormali (None, 16, 16, 192)  768         block_6_expand[0][0]             \n",
      "__________________________________________________________________________________________________\n",
      "block_6_expand_relu (ReLU)      (None, 16, 16, 192)  0           block_6_expand_BN[0][0]          \n",
      "__________________________________________________________________________________________________\n",
      "block_6_pad (ZeroPadding2D)     (None, 17, 17, 192)  0           block_6_expand_relu[0][0]        \n",
      "__________________________________________________________________________________________________\n",
      "block_6_depthwise (DepthwiseCon (None, 8, 8, 192)    1728        block_6_pad[0][0]                \n",
      "__________________________________________________________________________________________________\n",
      "block_6_depthwise_BN (BatchNorm (None, 8, 8, 192)    768         block_6_depthwise[0][0]          \n",
      "__________________________________________________________________________________________________\n",
      "block_6_depthwise_relu (ReLU)   (None, 8, 8, 192)    0           block_6_depthwise_BN[0][0]       \n",
      "__________________________________________________________________________________________________\n",
      "block_6_project (Conv2D)        (None, 8, 8, 64)     12288       block_6_depthwise_relu[0][0]     \n",
      "__________________________________________________________________________________________________\n",
      "block_6_project_BN (BatchNormal (None, 8, 8, 64)     256         block_6_project[0][0]            \n",
      "__________________________________________________________________________________________________\n",
      "block_7_expand (Conv2D)         (None, 8, 8, 384)    24576       block_6_project_BN[0][0]         \n",
      "__________________________________________________________________________________________________\n",
      "block_7_expand_BN (BatchNormali (None, 8, 8, 384)    1536        block_7_expand[0][0]             \n",
      "__________________________________________________________________________________________________\n",
      "block_7_expand_relu (ReLU)      (None, 8, 8, 384)    0           block_7_expand_BN[0][0]          \n",
      "__________________________________________________________________________________________________\n",
      "block_7_depthwise (DepthwiseCon (None, 8, 8, 384)    3456        block_7_expand_relu[0][0]        \n",
      "__________________________________________________________________________________________________\n",
      "block_7_depthwise_BN (BatchNorm (None, 8, 8, 384)    1536        block_7_depthwise[0][0]          \n",
      "__________________________________________________________________________________________________\n",
      "block_7_depthwise_relu (ReLU)   (None, 8, 8, 384)    0           block_7_depthwise_BN[0][0]       \n",
      "__________________________________________________________________________________________________\n",
      "block_7_project (Conv2D)        (None, 8, 8, 64)     24576       block_7_depthwise_relu[0][0]     \n",
      "__________________________________________________________________________________________________\n",
      "block_7_project_BN (BatchNormal (None, 8, 8, 64)     256         block_7_project[0][0]            \n",
      "__________________________________________________________________________________________________\n",
      "block_7_add (Add)               (None, 8, 8, 64)     0           block_6_project_BN[0][0]         \n",
      "                                                                 block_7_project_BN[0][0]         \n",
      "__________________________________________________________________________________________________\n",
      "block_8_expand (Conv2D)         (None, 8, 8, 384)    24576       block_7_add[0][0]                \n",
      "__________________________________________________________________________________________________\n",
      "block_8_expand_BN (BatchNormali (None, 8, 8, 384)    1536        block_8_expand[0][0]             \n",
      "__________________________________________________________________________________________________\n",
      "block_8_expand_relu (ReLU)      (None, 8, 8, 384)    0           block_8_expand_BN[0][0]          \n",
      "__________________________________________________________________________________________________\n",
      "block_8_depthwise (DepthwiseCon (None, 8, 8, 384)    3456        block_8_expand_relu[0][0]        \n",
      "__________________________________________________________________________________________________\n",
      "block_8_depthwise_BN (BatchNorm (None, 8, 8, 384)    1536        block_8_depthwise[0][0]          \n",
      "__________________________________________________________________________________________________\n",
      "block_8_depthwise_relu (ReLU)   (None, 8, 8, 384)    0           block_8_depthwise_BN[0][0]       \n",
      "__________________________________________________________________________________________________\n",
      "block_8_project (Conv2D)        (None, 8, 8, 64)     24576       block_8_depthwise_relu[0][0]     \n",
      "__________________________________________________________________________________________________\n",
      "block_8_project_BN (BatchNormal (None, 8, 8, 64)     256         block_8_project[0][0]            \n",
      "__________________________________________________________________________________________________\n",
      "block_8_add (Add)               (None, 8, 8, 64)     0           block_7_add[0][0]                \n",
      "                                                                 block_8_project_BN[0][0]         \n",
      "__________________________________________________________________________________________________\n",
      "block_9_expand (Conv2D)         (None, 8, 8, 384)    24576       block_8_add[0][0]                \n",
      "__________________________________________________________________________________________________\n",
      "block_9_expand_BN (BatchNormali (None, 8, 8, 384)    1536        block_9_expand[0][0]             \n",
      "__________________________________________________________________________________________________\n",
      "block_9_expand_relu (ReLU)      (None, 8, 8, 384)    0           block_9_expand_BN[0][0]          \n",
      "__________________________________________________________________________________________________\n",
      "block_9_depthwise (DepthwiseCon (None, 8, 8, 384)    3456        block_9_expand_relu[0][0]        \n",
      "__________________________________________________________________________________________________\n",
      "block_9_depthwise_BN (BatchNorm (None, 8, 8, 384)    1536        block_9_depthwise[0][0]          \n",
      "__________________________________________________________________________________________________\n",
      "block_9_depthwise_relu (ReLU)   (None, 8, 8, 384)    0           block_9_depthwise_BN[0][0]       \n",
      "__________________________________________________________________________________________________\n",
      "block_9_project (Conv2D)        (None, 8, 8, 64)     24576       block_9_depthwise_relu[0][0]     \n",
      "__________________________________________________________________________________________________\n",
      "block_9_project_BN (BatchNormal (None, 8, 8, 64)     256         block_9_project[0][0]            \n",
      "__________________________________________________________________________________________________\n",
      "block_9_add (Add)               (None, 8, 8, 64)     0           block_8_add[0][0]                \n",
      "                                                                 block_9_project_BN[0][0]         \n",
      "__________________________________________________________________________________________________\n",
      "block_10_expand (Conv2D)        (None, 8, 8, 384)    24576       block_9_add[0][0]                \n",
      "__________________________________________________________________________________________________\n",
      "block_10_expand_BN (BatchNormal (None, 8, 8, 384)    1536        block_10_expand[0][0]            \n",
      "__________________________________________________________________________________________________\n",
      "block_10_expand_relu (ReLU)     (None, 8, 8, 384)    0           block_10_expand_BN[0][0]         \n",
      "__________________________________________________________________________________________________\n",
      "block_10_depthwise (DepthwiseCo (None, 8, 8, 384)    3456        block_10_expand_relu[0][0]       \n",
      "__________________________________________________________________________________________________\n",
      "block_10_depthwise_BN (BatchNor (None, 8, 8, 384)    1536        block_10_depthwise[0][0]         \n",
      "__________________________________________________________________________________________________\n",
      "block_10_depthwise_relu (ReLU)  (None, 8, 8, 384)    0           block_10_depthwise_BN[0][0]      \n",
      "__________________________________________________________________________________________________\n",
      "block_10_project (Conv2D)       (None, 8, 8, 96)     36864       block_10_depthwise_relu[0][0]    \n",
      "__________________________________________________________________________________________________\n",
      "block_10_project_BN (BatchNorma (None, 8, 8, 96)     384         block_10_project[0][0]           \n",
      "__________________________________________________________________________________________________\n",
      "block_11_expand (Conv2D)        (None, 8, 8, 576)    55296       block_10_project_BN[0][0]        \n",
      "__________________________________________________________________________________________________\n",
      "block_11_expand_BN (BatchNormal (None, 8, 8, 576)    2304        block_11_expand[0][0]            \n",
      "__________________________________________________________________________________________________\n",
      "block_11_expand_relu (ReLU)     (None, 8, 8, 576)    0           block_11_expand_BN[0][0]         \n",
      "__________________________________________________________________________________________________\n",
      "block_11_depthwise (DepthwiseCo (None, 8, 8, 576)    5184        block_11_expand_relu[0][0]       \n",
      "__________________________________________________________________________________________________\n",
      "block_11_depthwise_BN (BatchNor (None, 8, 8, 576)    2304        block_11_depthwise[0][0]         \n",
      "__________________________________________________________________________________________________\n",
      "block_11_depthwise_relu (ReLU)  (None, 8, 8, 576)    0           block_11_depthwise_BN[0][0]      \n",
      "__________________________________________________________________________________________________\n",
      "block_11_project (Conv2D)       (None, 8, 8, 96)     55296       block_11_depthwise_relu[0][0]    \n",
      "__________________________________________________________________________________________________\n",
      "block_11_project_BN (BatchNorma (None, 8, 8, 96)     384         block_11_project[0][0]           \n",
      "__________________________________________________________________________________________________\n",
      "block_11_add (Add)              (None, 8, 8, 96)     0           block_10_project_BN[0][0]        \n",
      "                                                                 block_11_project_BN[0][0]        \n",
      "__________________________________________________________________________________________________\n",
      "block_12_expand (Conv2D)        (None, 8, 8, 576)    55296       block_11_add[0][0]               \n",
      "__________________________________________________________________________________________________\n",
      "block_12_expand_BN (BatchNormal (None, 8, 8, 576)    2304        block_12_expand[0][0]            \n",
      "__________________________________________________________________________________________________\n",
      "block_12_expand_relu (ReLU)     (None, 8, 8, 576)    0           block_12_expand_BN[0][0]         \n",
      "__________________________________________________________________________________________________\n",
      "block_12_depthwise (DepthwiseCo (None, 8, 8, 576)    5184        block_12_expand_relu[0][0]       \n",
      "__________________________________________________________________________________________________\n",
      "block_12_depthwise_BN (BatchNor (None, 8, 8, 576)    2304        block_12_depthwise[0][0]         \n",
      "__________________________________________________________________________________________________\n",
      "block_12_depthwise_relu (ReLU)  (None, 8, 8, 576)    0           block_12_depthwise_BN[0][0]      \n",
      "__________________________________________________________________________________________________\n",
      "block_12_project (Conv2D)       (None, 8, 8, 96)     55296       block_12_depthwise_relu[0][0]    \n",
      "__________________________________________________________________________________________________\n",
      "block_12_project_BN (BatchNorma (None, 8, 8, 96)     384         block_12_project[0][0]           \n",
      "__________________________________________________________________________________________________\n",
      "block_12_add (Add)              (None, 8, 8, 96)     0           block_11_add[0][0]               \n",
      "                                                                 block_12_project_BN[0][0]        \n",
      "__________________________________________________________________________________________________\n",
      "block_13_expand (Conv2D)        (None, 8, 8, 576)    55296       block_12_add[0][0]               \n",
      "__________________________________________________________________________________________________\n",
      "block_13_expand_BN (BatchNormal (None, 8, 8, 576)    2304        block_13_expand[0][0]            \n",
      "__________________________________________________________________________________________________\n",
      "block_13_expand_relu (ReLU)     (None, 8, 8, 576)    0           block_13_expand_BN[0][0]         \n",
      "__________________________________________________________________________________________________\n",
      "block_13_pad (ZeroPadding2D)    (None, 9, 9, 576)    0           block_13_expand_relu[0][0]       \n",
      "__________________________________________________________________________________________________\n",
      "block_13_depthwise (DepthwiseCo (None, 4, 4, 576)    5184        block_13_pad[0][0]               \n",
      "__________________________________________________________________________________________________\n",
      "block_13_depthwise_BN (BatchNor (None, 4, 4, 576)    2304        block_13_depthwise[0][0]         \n",
      "__________________________________________________________________________________________________\n",
      "block_13_depthwise_relu (ReLU)  (None, 4, 4, 576)    0           block_13_depthwise_BN[0][0]      \n",
      "__________________________________________________________________________________________________\n",
      "block_13_project (Conv2D)       (None, 4, 4, 160)    92160       block_13_depthwise_relu[0][0]    \n",
      "__________________________________________________________________________________________________\n",
      "block_13_project_BN (BatchNorma (None, 4, 4, 160)    640         block_13_project[0][0]           \n",
      "__________________________________________________________________________________________________\n",
      "block_14_expand (Conv2D)        (None, 4, 4, 960)    153600      block_13_project_BN[0][0]        \n",
      "__________________________________________________________________________________________________\n",
      "block_14_expand_BN (BatchNormal (None, 4, 4, 960)    3840        block_14_expand[0][0]            \n",
      "__________________________________________________________________________________________________\n",
      "block_14_expand_relu (ReLU)     (None, 4, 4, 960)    0           block_14_expand_BN[0][0]         \n",
      "__________________________________________________________________________________________________\n",
      "block_14_depthwise (DepthwiseCo (None, 4, 4, 960)    8640        block_14_expand_relu[0][0]       \n",
      "__________________________________________________________________________________________________\n",
      "block_14_depthwise_BN (BatchNor (None, 4, 4, 960)    3840        block_14_depthwise[0][0]         \n",
      "__________________________________________________________________________________________________\n",
      "block_14_depthwise_relu (ReLU)  (None, 4, 4, 960)    0           block_14_depthwise_BN[0][0]      \n",
      "__________________________________________________________________________________________________\n",
      "block_14_project (Conv2D)       (None, 4, 4, 160)    153600      block_14_depthwise_relu[0][0]    \n",
      "__________________________________________________________________________________________________\n",
      "block_14_project_BN (BatchNorma (None, 4, 4, 160)    640         block_14_project[0][0]           \n",
      "__________________________________________________________________________________________________\n",
      "block_14_add (Add)              (None, 4, 4, 160)    0           block_13_project_BN[0][0]        \n",
      "                                                                 block_14_project_BN[0][0]        \n",
      "__________________________________________________________________________________________________\n",
      "block_15_expand (Conv2D)        (None, 4, 4, 960)    153600      block_14_add[0][0]               \n",
      "__________________________________________________________________________________________________\n",
      "block_15_expand_BN (BatchNormal (None, 4, 4, 960)    3840        block_15_expand[0][0]            \n",
      "__________________________________________________________________________________________________\n",
      "block_15_expand_relu (ReLU)     (None, 4, 4, 960)    0           block_15_expand_BN[0][0]         \n",
      "__________________________________________________________________________________________________\n",
      "block_15_depthwise (DepthwiseCo (None, 4, 4, 960)    8640        block_15_expand_relu[0][0]       \n",
      "__________________________________________________________________________________________________\n",
      "block_15_depthwise_BN (BatchNor (None, 4, 4, 960)    3840        block_15_depthwise[0][0]         \n",
      "__________________________________________________________________________________________________\n",
      "block_15_depthwise_relu (ReLU)  (None, 4, 4, 960)    0           block_15_depthwise_BN[0][0]      \n",
      "__________________________________________________________________________________________________\n",
      "block_15_project (Conv2D)       (None, 4, 4, 160)    153600      block_15_depthwise_relu[0][0]    \n",
      "__________________________________________________________________________________________________\n",
      "block_15_project_BN (BatchNorma (None, 4, 4, 160)    640         block_15_project[0][0]           \n",
      "__________________________________________________________________________________________________\n",
      "block_15_add (Add)              (None, 4, 4, 160)    0           block_14_add[0][0]               \n",
      "                                                                 block_15_project_BN[0][0]        \n",
      "__________________________________________________________________________________________________\n",
      "block_16_expand (Conv2D)        (None, 4, 4, 960)    153600      block_15_add[0][0]               \n",
      "__________________________________________________________________________________________________\n",
      "block_16_expand_BN (BatchNormal (None, 4, 4, 960)    3840        block_16_expand[0][0]            \n",
      "__________________________________________________________________________________________________\n",
      "block_16_expand_relu (ReLU)     (None, 4, 4, 960)    0           block_16_expand_BN[0][0]         \n",
      "__________________________________________________________________________________________________\n",
      "block_16_depthwise (DepthwiseCo (None, 4, 4, 960)    8640        block_16_expand_relu[0][0]       \n",
      "__________________________________________________________________________________________________\n",
      "block_16_depthwise_BN (BatchNor (None, 4, 4, 960)    3840        block_16_depthwise[0][0]         \n",
      "__________________________________________________________________________________________________\n",
      "block_16_depthwise_relu (ReLU)  (None, 4, 4, 960)    0           block_16_depthwise_BN[0][0]      \n",
      "__________________________________________________________________________________________________\n",
      "block_16_project (Conv2D)       (None, 4, 4, 320)    307200      block_16_depthwise_relu[0][0]    \n",
      "__________________________________________________________________________________________________\n",
      "block_16_project_BN (BatchNorma (None, 4, 4, 320)    1280        block_16_project[0][0]           \n",
      "__________________________________________________________________________________________________\n",
      "Conv_1 (Conv2D)                 (None, 4, 4, 1280)   409600      block_16_project_BN[0][0]        \n",
      "__________________________________________________________________________________________________\n",
      "Conv_1_bn (BatchNormalization)  (None, 4, 4, 1280)   5120        Conv_1[0][0]                     \n",
      "__________________________________________________________________________________________________\n",
      "out_relu (ReLU)                 (None, 4, 4, 1280)   0           Conv_1_bn[0][0]                  \n",
      "==================================================================================================\n",
      "Total params: 2,257,984\n",
      "Trainable params: 0\n",
      "Non-trainable params: 2,257,984\n",
      "__________________________________________________________________________________________________\n"
     ]
    }
   ],
   "source": [
    "base_model.summary()"
   ]
  },
  {
   "cell_type": "code",
   "execution_count": 18,
   "id": "a03b25d1-2c15-4860-9659-c3d2baca864a",
   "metadata": {},
   "outputs": [
    {
     "name": "stdout",
     "output_type": "stream",
     "text": [
      "(128, 1280)\n"
     ]
    }
   ],
   "source": [
    "global_average_layer = tf.keras.layers.GlobalAveragePooling2D()\n",
    "feature_batch_average = global_average_layer(feature_batch)\n",
    "print(feature_batch_average.shape)"
   ]
  },
  {
   "cell_type": "code",
   "execution_count": 19,
   "id": "e1945cd1-ee54-4fc8-8f23-da75a1816bba",
   "metadata": {},
   "outputs": [
    {
     "name": "stdout",
     "output_type": "stream",
     "text": [
      "(128, 5)\n"
     ]
    }
   ],
   "source": [
    "prediction_layer = tf.keras.layers.Dense(5)\n",
    "prediction_batch = prediction_layer(feature_batch_average)\n",
    "print(prediction_batch.shape)"
   ]
  },
  {
   "cell_type": "code",
   "execution_count": 20,
   "id": "75ff5d2a-356c-43c9-934b-4f21df11266d",
   "metadata": {},
   "outputs": [
    {
     "name": "stdout",
     "output_type": "stream",
     "text": [
      "INFO:tensorflow:Using MirroredStrategy with devices ('/job:localhost/replica:0/task:0/device:GPU:0',)\n"
     ]
    }
   ],
   "source": [
    "strategy = tf.distribute.MirroredStrategy()\n",
    "with strategy.scope():\n",
    "    inputs = tf.keras.Input(shape=(128, 128, 3))\n",
    "    x = preprocess_input(inputs)\n",
    "    x = base_model(x, training=False)\n",
    "    x = global_average_layer(x)\n",
    "    x = tf.keras.layers.Dropout(0.2)(x)\n",
    "    outputs = prediction_layer(x)\n",
    "    model = tf.keras.Model(inputs, outputs)"
   ]
  },
  {
   "cell_type": "code",
   "execution_count": 21,
   "id": "916d406c-2692-49dc-9e5b-9a816fce583a",
   "metadata": {},
   "outputs": [
    {
     "name": "stdout",
     "output_type": "stream",
     "text": [
      "Model: \"functional_1\"\n",
      "_________________________________________________________________\n",
      "Layer (type)                 Output Shape              Param #   \n",
      "=================================================================\n",
      "input_2 (InputLayer)         [(None, 128, 128, 3)]     0         \n",
      "_________________________________________________________________\n",
      "tf_op_layer_RealDiv (TensorF [(None, 128, 128, 3)]     0         \n",
      "_________________________________________________________________\n",
      "tf_op_layer_Sub (TensorFlowO [(None, 128, 128, 3)]     0         \n",
      "_________________________________________________________________\n",
      "mobilenetv2_1.00_128 (Functi (None, 4, 4, 1280)        2257984   \n",
      "_________________________________________________________________\n",
      "global_average_pooling2d (Gl (None, 1280)              0         \n",
      "_________________________________________________________________\n",
      "dropout (Dropout)            (None, 1280)              0         \n",
      "_________________________________________________________________\n",
      "dense (Dense)                (None, 5)                 6405      \n",
      "=================================================================\n",
      "Total params: 2,264,389\n",
      "Trainable params: 6,405\n",
      "Non-trainable params: 2,257,984\n",
      "_________________________________________________________________\n"
     ]
    }
   ],
   "source": [
    "model.summary()"
   ]
  },
  {
   "cell_type": "code",
   "execution_count": 22,
   "id": "0e5555fb-046b-46b9-ae69-cc02ea15a323",
   "metadata": {},
   "outputs": [],
   "source": [
    "loss_object = tf.keras.losses.SparseCategoricalCrossentropy(from_logits=True)\n",
    "\n",
    "optimizer = tf.keras.optimizers.Adam(1e-3)"
   ]
  },
  {
   "cell_type": "code",
   "execution_count": 23,
   "id": "bc44912b-87c2-4801-b28a-ac9e6d3d8f6d",
   "metadata": {},
   "outputs": [],
   "source": [
    "train_loss = tf.keras.metrics.Mean(name='train_loss')\n",
    "train_accuracy = tf.keras.metrics.SparseCategoricalAccuracy(name='train_accuracy')\n",
    "\n",
    "test_loss = tf.keras.metrics.Mean(name='test_loss')\n",
    "test_accuracy = tf.keras.metrics.SparseCategoricalAccuracy(name='test_accuracy')"
   ]
  },
  {
   "cell_type": "code",
   "execution_count": 24,
   "id": "286b1afc-42c9-4677-b195-6393b91284f1",
   "metadata": {},
   "outputs": [],
   "source": [
    "@tf.function\n",
    "def train_step(images, labels):\n",
    "    with tf.GradientTape() as tape:\n",
    "    # training=True is only needed if there are layers with different\n",
    "    # behavior during training versus inference (e.g. Dropout).\n",
    "        predictions = model(images, training=True)\n",
    "        \n",
    "        loss = loss_object(labels, predictions)\n",
    "    gradients = tape.gradient(loss, model.trainable_variables)\n",
    "    optimizer.apply_gradients(zip(gradients, model.trainable_variables))\n",
    "\n",
    "    train_loss(loss)\n",
    "    train_accuracy(labels, predictions)"
   ]
  },
  {
   "cell_type": "code",
   "execution_count": 25,
   "id": "91d09d60-1de3-4857-a572-321f693bc748",
   "metadata": {},
   "outputs": [],
   "source": [
    "@tf.function\n",
    "def test_step(images, labels):\n",
    "  # training=False is only needed if there are layers with different\n",
    "  # behavior during training versus inference (e.g. Dropout).\n",
    "    predictions = model(images, training=False)\n",
    "    \n",
    "    t_loss = loss_object(labels, predictions)\n",
    "\n",
    "    test_loss(t_loss)\n",
    "    test_accuracy(labels, predictions)"
   ]
  },
  {
   "cell_type": "markdown",
   "id": "f66cba15-b354-4e51-813f-c87594869df7",
   "metadata": {
    "tags": []
   },
   "source": [
    "## 训练"
   ]
  },
  {
   "cell_type": "code",
   "execution_count": 26,
   "id": "4817a13e-4d8b-49d9-b517-86e9447c7f5c",
   "metadata": {
    "scrolled": true
   },
   "outputs": [
    {
     "name": "stdout",
     "output_type": "stream",
     "text": [
      "Epoch 1, Loss: 1.3382289409637451, Accuracy: 49.388587951660156, Test Loss: 0.7330948710441589, Test Accuracy: 75.46875,\n",
      "Epoch 2, Loss: 0.6177449226379395, Accuracy: 77.95516204833984, Test Loss: 0.5321513414382935, Test Accuracy: 81.40625,\n",
      "Epoch 3, Loss: 0.46643170714378357, Accuracy: 83.28804016113281, Test Loss: 0.456333726644516, Test Accuracy: 83.75,\n",
      "Epoch 4, Loss: 0.39527472853660583, Accuracy: 86.20923614501953, Test Loss: 0.42116332054138184, Test Accuracy: 84.84375,\n",
      "Epoch 5, Loss: 0.3524816036224365, Accuracy: 87.70380401611328, Test Loss: 0.40043267607688904, Test Accuracy: 84.6875,\n",
      "Epoch 6, Loss: 0.3211553692817688, Accuracy: 88.8247299194336, Test Loss: 0.3859277367591858, Test Accuracy: 85.15625,\n",
      "Epoch 7, Loss: 0.30123698711395264, Accuracy: 89.77581024169922, Test Loss: 0.37365084886550903, Test Accuracy: 85.78125,\n",
      "Epoch 8, Loss: 0.2696966826915741, Accuracy: 90.625, Test Loss: 0.36306729912757874, Test Accuracy: 86.25,\n",
      "Epoch 9, Loss: 0.2555384337902069, Accuracy: 91.37228393554688, Test Loss: 0.3573234975337982, Test Accuracy: 87.03125,\n",
      "Epoch 10, Loss: 0.23659801483154297, Accuracy: 92.08560180664062, Test Loss: 0.35364848375320435, Test Accuracy: 87.65625,\n",
      "Epoch 11, Loss: 0.22129659354686737, Accuracy: 92.25543975830078, Test Loss: 0.34940433502197266, Test Accuracy: 87.34375,\n",
      "Epoch 12, Loss: 0.2190053015947342, Accuracy: 92.52717590332031, Test Loss: 0.34846752882003784, Test Accuracy: 87.65625,\n",
      "Epoch 13, Loss: 0.20036950707435608, Accuracy: 93.41032409667969, Test Loss: 0.34422245621681213, Test Accuracy: 87.5,\n",
      "Epoch 14, Loss: 0.19150564074516296, Accuracy: 94.08967590332031, Test Loss: 0.3421177566051483, Test Accuracy: 87.5,\n",
      "Epoch 15, Loss: 0.1862337440252304, Accuracy: 93.81793975830078, Test Loss: 0.3397298753261566, Test Accuracy: 87.65625,\n",
      "Epoch 16, Loss: 0.16672877967357635, Accuracy: 94.56521606445312, Test Loss: 0.3398553431034088, Test Accuracy: 87.1875,\n",
      "Epoch 17, Loss: 0.16695228219032288, Accuracy: 94.73505401611328, Test Loss: 0.33722394704818726, Test Accuracy: 87.8125,\n",
      "Epoch 18, Loss: 0.15945766866207123, Accuracy: 95.21060180664062, Test Loss: 0.33979979157447815, Test Accuracy: 87.5,\n",
      "Epoch 19, Loss: 0.15375261008739471, Accuracy: 95.14266204833984, Test Loss: 0.33649125695228577, Test Accuracy: 87.1875,\n",
      "Epoch 20, Loss: 0.14445483684539795, Accuracy: 95.5502700805664, Test Loss: 0.3377132713794708, Test Accuracy: 87.5,\n",
      "Epoch 21, Loss: 0.14221389591693878, Accuracy: 95.51630401611328, Test Loss: 0.3358609974384308, Test Accuracy: 86.875,\n",
      "Epoch 22, Loss: 0.1428798884153366, Accuracy: 95.51630401611328, Test Loss: 0.33660292625427246, Test Accuracy: 86.875,\n",
      "Epoch 23, Loss: 0.13536281883716583, Accuracy: 95.78804016113281, Test Loss: 0.3417322635650635, Test Accuracy: 86.71875,\n",
      "Epoch 24, Loss: 0.13006575405597687, Accuracy: 96.29755401611328, Test Loss: 0.3411843180656433, Test Accuracy: 86.71875,\n",
      "Epoch 25, Loss: 0.12092426419258118, Accuracy: 96.60326385498047, Test Loss: 0.3366034924983978, Test Accuracy: 87.96875,\n",
      "Epoch 26, Loss: 0.11801975965499878, Accuracy: 96.73912811279297, Test Loss: 0.33757367730140686, Test Accuracy: 87.34375,\n",
      "Epoch 27, Loss: 0.12085575610399246, Accuracy: 96.70516204833984, Test Loss: 0.3392455577850342, Test Accuracy: 87.5,\n",
      "Epoch 28, Loss: 0.11906634271144867, Accuracy: 96.05978393554688, Test Loss: 0.3367994427680969, Test Accuracy: 87.1875,\n",
      "Epoch 29, Loss: 0.12035273760557175, Accuracy: 96.67119598388672, Test Loss: 0.33378249406814575, Test Accuracy: 87.65625,\n",
      "Epoch 30, Loss: 0.10991710424423218, Accuracy: 96.875, Test Loss: 0.33905354142189026, Test Accuracy: 87.1875,\n",
      "Epoch 31, Loss: 0.10474366694688797, Accuracy: 97.35054016113281, Test Loss: 0.34244781732559204, Test Accuracy: 87.65625,\n",
      "Epoch 32, Loss: 0.10210087895393372, Accuracy: 97.01087188720703, Test Loss: 0.34069696068763733, Test Accuracy: 88.125,\n",
      "Epoch 33, Loss: 0.09840576350688934, Accuracy: 97.4184799194336, Test Loss: 0.34022825956344604, Test Accuracy: 87.65625,\n",
      "Epoch 34, Loss: 0.09805676341056824, Accuracy: 97.38451385498047, Test Loss: 0.33854255080223083, Test Accuracy: 88.125,\n",
      "Epoch 35, Loss: 0.10076136142015457, Accuracy: 97.58831024169922, Test Loss: 0.34209027886390686, Test Accuracy: 87.34375,\n",
      "Epoch 36, Loss: 0.09552831947803497, Accuracy: 97.35054016113281, Test Loss: 0.34391316771507263, Test Accuracy: 87.65625,\n",
      "Epoch 37, Loss: 0.09106633067131042, Accuracy: 97.8940200805664, Test Loss: 0.34556862711906433, Test Accuracy: 87.1875,\n",
      "Epoch 38, Loss: 0.08567561954259872, Accuracy: 98.23369598388672, Test Loss: 0.343802809715271, Test Accuracy: 87.03125,\n",
      "Epoch 39, Loss: 0.09117963910102844, Accuracy: 97.38451385498047, Test Loss: 0.3477126359939575, Test Accuracy: 87.5,\n",
      "Epoch 40, Loss: 0.09568426758050919, Accuracy: 97.21467590332031, Test Loss: 0.34493541717529297, Test Accuracy: 87.5,\n",
      "Epoch 41, Loss: 0.08937864005565643, Accuracy: 97.82608795166016, Test Loss: 0.35001665353775024, Test Accuracy: 87.5,\n",
      "Epoch 42, Loss: 0.09032014012336731, Accuracy: 97.35054016113281, Test Loss: 0.349744975566864, Test Accuracy: 87.03125,\n",
      "Epoch 43, Loss: 0.08266495168209076, Accuracy: 97.62228393554688, Test Loss: 0.3476363718509674, Test Accuracy: 86.71875,\n",
      "Epoch 44, Loss: 0.08803632110357285, Accuracy: 97.4184799194336, Test Loss: 0.3511415421962738, Test Accuracy: 87.1875,\n",
      "Epoch 45, Loss: 0.08219689875841141, Accuracy: 97.62228393554688, Test Loss: 0.3443754017353058, Test Accuracy: 87.65625,\n",
      "Epoch 46, Loss: 0.08032692223787308, Accuracy: 97.86005401611328, Test Loss: 0.3475591540336609, Test Accuracy: 87.5,\n",
      "Epoch 47, Loss: 0.07899760454893112, Accuracy: 98.02989196777344, Test Loss: 0.34507089853286743, Test Accuracy: 87.03125,\n",
      "Epoch 48, Loss: 0.0725330337882042, Accuracy: 98.30162811279297, Test Loss: 0.3455589711666107, Test Accuracy: 86.875,\n",
      "Epoch 49, Loss: 0.07403338700532913, Accuracy: 98.13179016113281, Test Loss: 0.34960851073265076, Test Accuracy: 86.875,\n",
      "Epoch 50, Loss: 0.0753733366727829, Accuracy: 98.02989196777344, Test Loss: 0.3563184142112732, Test Accuracy: 87.5,\n"
     ]
    }
   ],
   "source": [
    "EPOCHS = 50\n",
    "history_train_loss = []\n",
    "history_train_accuracy = []\n",
    "history_test_loss = []\n",
    "history_test_accuracy = []\n",
    "for epoch in range(EPOCHS):\n",
    "  # Reset the metrics at the start of the next epoch\n",
    "    train_loss.reset_states()\n",
    "    train_accuracy.reset_states()\n",
    "    test_loss.reset_states()\n",
    "    test_accuracy.reset_states()\n",
    "\n",
    "    for images, labels in train_ds:\n",
    "        train_step(images, labels)\n",
    "\n",
    "    for test_images, test_labels in test_ds:\n",
    "        test_step(test_images, test_labels)\n",
    "    \n",
    "    history_train_loss.append(train_loss.result().numpy())\n",
    "    history_train_accuracy.append(train_accuracy.result().numpy())\n",
    "    history_test_loss.append(test_loss.result().numpy())\n",
    "    history_test_accuracy.append(test_accuracy.result().numpy())\n",
    "    print(\n",
    "          f'Epoch {epoch + 1}, '\n",
    "          f'Loss: {train_loss.result()}, '\n",
    "          f'Accuracy: {train_accuracy.result() * 100}, '\n",
    "          f'Test Loss: {test_loss.result()}, '\n",
    "          f'Test Accuracy: {test_accuracy.result() * 100},',\n",
    "          \n",
    "        )"
   ]
  },
  {
   "cell_type": "markdown",
   "id": "4e4820aa-d856-41cb-a0b9-1e999ae15e40",
   "metadata": {
    "tags": []
   },
   "source": [
    "## 画图"
   ]
  },
  {
   "cell_type": "code",
   "execution_count": 27,
   "id": "a532b22c-8572-40b0-8a9d-f8c6249057be",
   "metadata": {},
   "outputs": [],
   "source": [
    "import matplotlib.pyplot as plt\n",
    "def plot_graph(x,y):\n",
    "    plt.plot(x)\n",
    "    plt.plot(y)\n",
    "    plt.show()"
   ]
  },
  {
   "cell_type": "code",
   "execution_count": null,
   "id": "d43f6333",
   "metadata": {},
   "outputs": [],
   "source": [
    "plot_graph(history_train_loss,history_test_loss)"
   ]
  },
  {
   "cell_type": "code",
   "execution_count": null,
   "id": "ef82d6cf",
   "metadata": {},
   "outputs": [],
   "source": [
    "plot_graph(history_train_accuracy, history_test_accuracy)"
   ]
  },
  {
   "cell_type": "code",
   "execution_count": 28,
   "id": "0862ed3b-4444-45ca-aa63-f1e2230d87c6",
   "metadata": {},
   "outputs": [],
   "source": [
    "base_model.trainable=True"
   ]
  },
  {
   "cell_type": "code",
   "execution_count": 29,
   "id": "914e138c-be59-4378-b3b0-2a8643c331b5",
   "metadata": {},
   "outputs": [
    {
     "name": "stdout",
     "output_type": "stream",
     "text": [
      "Number of layers in the base model:  155\n"
     ]
    }
   ],
   "source": [
    "print(\"Number of layers in the base model: \", len(base_model.layers))"
   ]
  },
  {
   "cell_type": "code",
   "execution_count": 30,
   "id": "a0f946dc-402a-4810-94a6-2c173681c02e",
   "metadata": {},
   "outputs": [],
   "source": [
    "fine_tune_at = 100\n",
    "for layer in base_model.layers[:fine_tune_at]:\n",
    "    layer.trainable =  False"
   ]
  },
  {
   "cell_type": "code",
   "execution_count": 31,
   "id": "9f119be1-70f9-4fc1-899c-b028be68002f",
   "metadata": {},
   "outputs": [
    {
     "name": "stdout",
     "output_type": "stream",
     "text": [
      "Model: \"functional_1\"\n",
      "_________________________________________________________________\n",
      "Layer (type)                 Output Shape              Param #   \n",
      "=================================================================\n",
      "input_2 (InputLayer)         [(None, 128, 128, 3)]     0         \n",
      "_________________________________________________________________\n",
      "tf_op_layer_RealDiv (TensorF [(None, 128, 128, 3)]     0         \n",
      "_________________________________________________________________\n",
      "tf_op_layer_Sub (TensorFlowO [(None, 128, 128, 3)]     0         \n",
      "_________________________________________________________________\n",
      "mobilenetv2_1.00_128 (Functi (None, 4, 4, 1280)        2257984   \n",
      "_________________________________________________________________\n",
      "global_average_pooling2d (Gl (None, 1280)              0         \n",
      "_________________________________________________________________\n",
      "dropout (Dropout)            (None, 1280)              0         \n",
      "_________________________________________________________________\n",
      "dense (Dense)                (None, 5)                 6405      \n",
      "=================================================================\n",
      "Total params: 2,264,389\n",
      "Trainable params: 1,868,997\n",
      "Non-trainable params: 395,392\n",
      "_________________________________________________________________\n"
     ]
    }
   ],
   "source": [
    "model.summary()"
   ]
  },
  {
   "cell_type": "markdown",
   "id": "db37d829-f4df-4510-96f1-1edcb37a0efc",
   "metadata": {
    "tags": []
   },
   "source": [
    "## 微调"
   ]
  },
  {
   "cell_type": "code",
   "execution_count": 35,
   "id": "be4ae17f-5c7c-4e20-b9c5-bd316031b6b6",
   "metadata": {
    "scrolled": true
   },
   "outputs": [
    {
     "name": "stdout",
     "output_type": "stream",
     "text": [
      "Epoch 1, Loss: 0.08003772050142288, Accuracy: 97.58831024169922, Test Loss: 0.3683057129383087, Test Accuracy: 87.03125\n",
      "Epoch 2, Loss: 0.069243423640728, Accuracy: 98.33560180664062, Test Loss: 0.3577934801578522, Test Accuracy: 87.5\n",
      "Epoch 3, Loss: 0.07601619511842728, Accuracy: 97.75814819335938, Test Loss: 0.3567218780517578, Test Accuracy: 86.875\n",
      "Epoch 4, Loss: 0.06893766671419144, Accuracy: 98.40353393554688, Test Loss: 0.3508451282978058, Test Accuracy: 87.65625\n",
      "Epoch 5, Loss: 0.06719636172056198, Accuracy: 98.50543975830078, Test Loss: 0.35856685042381287, Test Accuracy: 87.03125\n",
      "Epoch 6, Loss: 0.06389615684747696, Accuracy: 98.70923614501953, Test Loss: 0.3573974668979645, Test Accuracy: 87.34375\n",
      "Epoch 7, Loss: 0.06336838006973267, Accuracy: 98.50543975830078, Test Loss: 0.3581295609474182, Test Accuracy: 87.03125\n",
      "Epoch 8, Loss: 0.06820416450500488, Accuracy: 98.33560180664062, Test Loss: 0.35815662145614624, Test Accuracy: 87.65625\n",
      "Epoch 9, Loss: 0.06852055341005325, Accuracy: 98.23369598388672, Test Loss: 0.3662244379520416, Test Accuracy: 86.875\n",
      "Epoch 10, Loss: 0.06422358006238937, Accuracy: 98.64130401611328, Test Loss: 0.3656223714351654, Test Accuracy: 87.1875\n",
      "Epoch 11, Loss: 0.06384880840778351, Accuracy: 98.16576385498047, Test Loss: 0.36646127700805664, Test Accuracy: 87.65625\n",
      "Epoch 12, Loss: 0.06333354860544205, Accuracy: 98.47146606445312, Test Loss: 0.3710460066795349, Test Accuracy: 87.34375\n",
      "Epoch 13, Loss: 0.0632772296667099, Accuracy: 98.4375, Test Loss: 0.37292739748954773, Test Accuracy: 86.875\n",
      "Epoch 14, Loss: 0.055392395704984665, Accuracy: 98.50543975830078, Test Loss: 0.36867380142211914, Test Accuracy: 86.25\n",
      "Epoch 15, Loss: 0.06409581005573273, Accuracy: 98.36956024169922, Test Loss: 0.3723220229148865, Test Accuracy: 87.03125\n",
      "Epoch 16, Loss: 0.05878516286611557, Accuracy: 98.60733795166016, Test Loss: 0.3669400215148926, Test Accuracy: 87.1875\n",
      "Epoch 17, Loss: 0.058664072304964066, Accuracy: 98.30162811279297, Test Loss: 0.3693106770515442, Test Accuracy: 86.71875\n",
      "Epoch 18, Loss: 0.058478981256484985, Accuracy: 98.60733795166016, Test Loss: 0.3658801317214966, Test Accuracy: 86.875\n",
      "Epoch 19, Loss: 0.05925152078270912, Accuracy: 98.60733795166016, Test Loss: 0.3693335950374603, Test Accuracy: 87.8125\n",
      "Epoch 20, Loss: 0.058139391243457794, Accuracy: 98.4375, Test Loss: 0.3663462698459625, Test Accuracy: 87.96875\n",
      "Epoch 21, Loss: 0.05345674231648445, Accuracy: 98.74320983886719, Test Loss: 0.36507198214530945, Test Accuracy: 87.8125\n",
      "Epoch 22, Loss: 0.05559574067592621, Accuracy: 98.60733795166016, Test Loss: 0.3724302053451538, Test Accuracy: 88.75\n",
      "Epoch 23, Loss: 0.0587603896856308, Accuracy: 98.4375, Test Loss: 0.37270545959472656, Test Accuracy: 88.4375\n",
      "Epoch 24, Loss: 0.05619165673851967, Accuracy: 98.4375, Test Loss: 0.38198322057724, Test Accuracy: 88.28125\n",
      "Epoch 25, Loss: 0.05745565518736839, Accuracy: 98.40353393554688, Test Loss: 0.3831831216812134, Test Accuracy: 87.1875\n",
      "Epoch 26, Loss: 0.05004537105560303, Accuracy: 98.74320983886719, Test Loss: 0.38165414333343506, Test Accuracy: 87.8125\n",
      "Epoch 27, Loss: 0.05254204198718071, Accuracy: 98.81114196777344, Test Loss: 0.38442090153694153, Test Accuracy: 87.5\n",
      "Epoch 28, Loss: 0.05548510327935219, Accuracy: 98.81114196777344, Test Loss: 0.385739803314209, Test Accuracy: 87.34375\n",
      "Epoch 29, Loss: 0.05540056154131889, Accuracy: 98.53939819335938, Test Loss: 0.38717350363731384, Test Accuracy: 87.8125\n",
      "Epoch 30, Loss: 0.05685775727033615, Accuracy: 98.33560180664062, Test Loss: 0.39155668020248413, Test Accuracy: 87.8125\n",
      "Epoch 31, Loss: 0.05382907763123512, Accuracy: 98.6752700805664, Test Loss: 0.39157819747924805, Test Accuracy: 87.96875\n",
      "Epoch 32, Loss: 0.048136044293642044, Accuracy: 98.81114196777344, Test Loss: 0.3877391219139099, Test Accuracy: 88.125\n",
      "Epoch 33, Loss: 0.057225942611694336, Accuracy: 98.33560180664062, Test Loss: 0.3921411633491516, Test Accuracy: 88.125\n",
      "Epoch 34, Loss: 0.04803003370761871, Accuracy: 98.81114196777344, Test Loss: 0.39082902669906616, Test Accuracy: 88.125\n",
      "Epoch 35, Loss: 0.05077653005719185, Accuracy: 98.60733795166016, Test Loss: 0.39108067750930786, Test Accuracy: 87.8125\n",
      "Epoch 36, Loss: 0.048952363431453705, Accuracy: 98.70923614501953, Test Loss: 0.39181190729141235, Test Accuracy: 86.875\n",
      "Epoch 37, Loss: 0.052513252943754196, Accuracy: 98.50543975830078, Test Loss: 0.38875612616539, Test Accuracy: 87.1875\n",
      "Epoch 38, Loss: 0.05171126872301102, Accuracy: 98.57337188720703, Test Loss: 0.3981095254421234, Test Accuracy: 87.03125\n",
      "Epoch 39, Loss: 0.04895472154021263, Accuracy: 98.81114196777344, Test Loss: 0.39959463477134705, Test Accuracy: 86.71875\n",
      "Epoch 40, Loss: 0.04823987931013107, Accuracy: 98.57337188720703, Test Loss: 0.3972667455673218, Test Accuracy: 87.1875\n",
      "Epoch 41, Loss: 0.04388050362467766, Accuracy: 98.87907409667969, Test Loss: 0.4044637084007263, Test Accuracy: 87.96875\n",
      "Epoch 42, Loss: 0.04722382873296738, Accuracy: 98.87907409667969, Test Loss: 0.407632052898407, Test Accuracy: 87.5\n",
      "Epoch 43, Loss: 0.051826175302267075, Accuracy: 98.60733795166016, Test Loss: 0.397045761346817, Test Accuracy: 87.8125\n",
      "Epoch 44, Loss: 0.0497041791677475, Accuracy: 98.77717590332031, Test Loss: 0.39327025413513184, Test Accuracy: 87.34375\n",
      "Epoch 45, Loss: 0.051988810300827026, Accuracy: 98.60733795166016, Test Loss: 0.4036197066307068, Test Accuracy: 87.5\n",
      "Epoch 46, Loss: 0.04951254278421402, Accuracy: 98.77717590332031, Test Loss: 0.3972432613372803, Test Accuracy: 87.96875\n",
      "Epoch 47, Loss: 0.04626479372382164, Accuracy: 98.81114196777344, Test Loss: 0.3957091271877289, Test Accuracy: 88.125\n",
      "Epoch 48, Loss: 0.04440324380993843, Accuracy: 98.74320983886719, Test Loss: 0.39986228942871094, Test Accuracy: 87.65625\n",
      "Epoch 49, Loss: 0.04353317990899086, Accuracy: 99.04891204833984, Test Loss: 0.40396222472190857, Test Accuracy: 87.65625\n",
      "Epoch 50, Loss: 0.04727967828512192, Accuracy: 98.70923614501953, Test Loss: 0.4094769358634949, Test Accuracy: 87.5\n"
     ]
    }
   ],
   "source": [
    "EPOCHS = 50\n",
    "history_train_loss = []\n",
    "history_train_accuracy = []\n",
    "history_test_loss = []\n",
    "history_test_accuracy = []\n",
    "for epoch in range(EPOCHS):\n",
    "  # Reset the metrics at the start of the next epoch\n",
    "    train_loss.reset_states()\n",
    "    train_accuracy.reset_states()\n",
    "    test_loss.reset_states()\n",
    "    test_accuracy.reset_states()\n",
    "\n",
    "    for images, labels in train_ds:\n",
    "        train_step(images, labels)\n",
    "\n",
    "    for test_images, test_labels in test_ds:\n",
    "        test_step(test_images, test_labels)\n",
    "    \n",
    "    history_train_loss.append(train_loss.result().numpy())\n",
    "    history_train_accuracy.append(train_accuracy.result().numpy())\n",
    "    history_test_loss.append(test_loss.result().numpy())\n",
    "    history_test_accuracy.append(test_accuracy.result().numpy())\n",
    "    print(\n",
    "      f'Epoch {epoch + 1}, '\n",
    "      f'Loss: {train_loss.result()}, '\n",
    "      f'Accuracy: {train_accuracy.result() * 100}, '\n",
    "      f'Test Loss: {test_loss.result()}, '\n",
    "      f'Test Accuracy: {test_accuracy.result() * 100}'\n",
    "    )"
   ]
  },
  {
   "cell_type": "code",
   "execution_count": 33,
   "id": "fcbb7385-1749-4989-84ec-4271ef57abbc",
   "metadata": {},
   "outputs": [
    {
     "data": {
      "image/png": "[encoded data removed]",
      "text/plain": [
       "<Figure size 432x288 with 1 Axes>"
      ]
     },
     "metadata": {
      "needs_background": "light"
     },
     "output_type": "display_data"
    }
   ],
   "source": [
    "plot_graph(history_train_loss,history_test_loss)"
   ]
  },
  {
   "cell_type": "code",
   "execution_count": 34,
   "id": "a849eb63-d593-407c-9b12-d82e45e79315",
   "metadata": {},
   "outputs": [
    {
     "data": {
      "image/png": "[encoded data removed]",
      "text/plain": [
       "<Figure size 432x288 with 1 Axes>"
      ]
     },
     "metadata": {
      "needs_background": "light"
     },
     "output_type": "display_data"
    }
   ],
   "source": [
    "plot_graph(history_train_accuracy, history_test_accuracy)"
   ]
  }
 ],
 "metadata": {
  "kernelspec": {
   "display_name": "Python 3 (ipykernel)",
   "language": "python",
   "name": "python3"
  },
  "language_info": {
   "codemirror_mode": {
    "name": "ipython",
    "version": 3
   },
   "file_extension": ".py",
   "mimetype": "text/x-python",
   "name": "python",
   "nbconvert_exporter": "python",
   "pygments_lexer": "ipython3",
   "version": "3.8.13"
  },
  "toc-autonumbering": true
 },
 "nbformat": 4,
 "nbformat_minor": 5
}
